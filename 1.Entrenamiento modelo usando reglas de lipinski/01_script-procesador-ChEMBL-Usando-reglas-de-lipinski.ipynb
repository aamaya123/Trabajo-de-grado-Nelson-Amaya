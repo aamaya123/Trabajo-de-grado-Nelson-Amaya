{
 "cells": [
  {
   "cell_type": "markdown",
   "id": "c5be9b4d",
   "metadata": {},
   "source": [
    "# INTRODUCCION\n",
    "\n",
    "En el emocionante mundo de la química y la bioinformática, la capacidad de predecir la bioactividad de una molécula es de vital importancia. Ya sea para la investigación de nuevos medicamentos, el diseño de compuestos químicos avanzados o la evaluación de la toxicidad, contar con herramientas precisas y eficientes es esencial.\n",
    "En este manual, exploraremos una poderosa metodología para abordar este desafío: el modelo Random Forest. Este enfoque de aprendizaje automático se ha convertido en una herramienta fundamental para la predicción de bioactividad, y lo llevaremos un paso más allá al incorporar dos componentes clave: la Validación Cruzada y el uso de un optimizador llamado Optuna.\n",
    "La Validación Cruzada es una técnica que nos permite evaluar la robustez y precisión de nuestro modelo, garantizando que no estemos sobre ajustando los datos y que nuestras predicciones sean confiables en un entorno del mundo real. La utilización de Optuna, por otro lado, nos permite afinar los hiperparámetros del modelo de manera automatizada y eficiente, optimizando así su rendimiento.\n",
    "Pero eso no es todo, porque además de los aspectos técnicos, abordaremos un componente crucial de la predicción de bioactividad: los fingerprints. Estas representaciones moleculares capturan información estructural única de las moléculas y son esenciales para comprender su bioactividad.\n",
    "Este manual es un recurso valioso para aquellos que deseen adentrarse en el apasionante mundo de la predicción de bioactividad molecular. Aprenderá a construir, evaluar y perfeccionar modelos Random Forest, asegurando que estén optimizados para ofrecer predicciones precisas y confiables en función de los fingerprints de las moléculas.\n"
   ]
  },
  {
   "cell_type": "markdown",
   "id": "d8be88af",
   "metadata": {},
   "source": [
    "# Fundamentos Teóricos\n",
    "\n",
    "## 1.\tRandom Forest\n",
    "Random Forest es un algoritmo de aprendizaje automático que se utiliza para la clasificación, la regresión y otras tareas de modelado predictivo. En quimioinformática, Random Forest se utiliza a menudo para predecir la actividad biológica de las moléculas en función de su estructura química.(Rodriguez, Hug et al. 2021)\n",
    "El algoritmo de Random Forest se basa en la idea de crear múltiples árboles de decisión, cada uno de los cuales se entrena con un subconjunto aleatorio de los datos de entrenamiento y un subconjunto aleatorio de las características (variables independientes) del conjunto de datos completo. Cada árbol de decisión en el bosque vota por una clase o valor de regresión y la clase o valor de regresión final se elige por mayoría de votos. (Hernandez, Pryszlak et al. 2017)\n",
    "La técnica de Random Forest se utiliza en quimioinformática para predecir la actividad biológica de las moléculas en función de su estructura química. La actividad biológica de una molécula se puede expresar como una propiedad binaria, como activa o inactiva, o como un valor de regresión, como la IC50 o la Ki. (Rodriguez, Hug et al. 2021)\n",
    "En la quimioinformática, el conjunto de datos se compone de moléculas, donde cada molécula se representa mediante un conjunto de características o descriptores. Los descriptores son valores numéricos que describen la estructura química de una molécula. Los descriptores pueden ser simples, como el número de átomos en una molécula, o más complejos, como los descriptores topológicos que describen la conectividad de los átomos en una molécula. (Hernandez, Pryszlak et al. 2017, Rodriguez, Hug et al. 2021)\n",
    "La selección de los descriptores adecuados es un paso crítico en la aplicación de Random Forest en quimioinformática. La selección de los descriptores debe basarse en un conocimiento profundo de la estructura química de las moléculas y de la actividad biológica que se está prediciendo. Además, la selección de los descriptores debe basarse en el análisis de la correlación entre los descriptores y la actividad biológica, así como en el análisis de la importancia de los descriptores en el modelo final. (Majumdar, Basak 2018) \n",
    "El uso de Random Forest en quimioinformática tiene varias ventajas. En primer lugar, Random Forest es capaz de manejar grandes conjuntos de datos con alta dimensionalidad y correlación entre los descriptores. En segundo lugar, Random Forest es resistente al sobreajuste, lo que significa que puede generalizar bien a datos nuevos. En tercer lugar, Random Forest es capaz de proporcionar medidas de importancia de los descriptores, lo que ayuda a entender mejor la relación entre la estructura química y la actividad biológica.  (Hernandez, Pryszlak et al. 2017, Majumdar, Basak 2018)\n",
    "## 2.\tValidación cruzada\n",
    "La validación cruzada es una técnica estadística que se utiliza para evaluar el rendimiento de los modelos de aprendizaje automático en datos no vistos. En quimioinformática, se utiliza para evaluar la capacidad de los modelos de aprendizaje automático para predecir propiedades moleculares, como la actividad biológica o la solubilidad. (Majumdar, Basak 2018, Roberts, Bahn et al. 2017)\n",
    "La validación cruzada implica dividir los datos en conjuntos de entrenamiento y prueba. El conjunto de entrenamiento se utiliza para entrenar el modelo de aprendizaje automático, mientras que el conjunto de prueba se utiliza para evaluar su rendimiento. En quimioinformática, esto se puede hacer de varias maneras, como la validación cruzada por separación aleatoria, la validación cruzada por separación en bloques y la validación cruzada de grupos. (Chen, Gao et al. 2020) \n",
    "La validación cruzada por separación aleatoria implica dividir los datos en conjuntos de entrenamiento y prueba de forma aleatoria. La validación cruzada por separación en bloques implica dividir los datos en bloques y utilizar uno de los bloques como conjunto de prueba mientras se entrena el modelo en los demás bloques. La validación cruzada de grupos se utiliza cuando los datos se dividen en grupos basados en alguna propiedad química o biológica, y se utiliza un grupo como conjunto de prueba mientras se entrena el modelo en los demás grupos. (Murgante, Misra et al. 2013) \n",
    "## 3.\tHiperparametros\n",
    "Los hiperparámetros utilizados en un modelo utilizando validación cruzada son valores que se establecen antes de que comience el proceso de entrenamiento y que afectan la forma en que se ajustan los parámetros del modelo. La validación cruzada se utiliza para evaluar el rendimiento del modelo con diferentes combinaciones de hiperparámetros para encontrar los valores óptimos que mejor se ajusten a los datos. (Chen, Gao et al. 2020)  \n",
    "### a)\tNúmero de árboles (n_estimators): \n",
    "El número de árboles que se utilizan en el bosque aleatorio. A medida que aumenta este valor, el modelo puede tardar más en entrenar y predecir, pero podría mejorar la precisión de la predicción.\n",
    "### b)\tProfundidad del árbol (max_depth): \n",
    "La profundidad máxima permitida para cada árbol. A medida que aumenta este valor, el modelo puede ajustarse demasiado a los datos de entrenamiento y perder la capacidad de generalización.\n",
    "### c)\tNúmero mínimo de muestras en las hojas (min_samples_leaf): \n",
    "El número mínimo de muestras requeridas para considerar una hoja del árbol. Un valor demasiado bajo puede hacer que el modelo se ajuste demasiado a los datos de entrenamiento y pierda la capacidad de generalización.\n",
    "### d)\tNúmero mínimo de muestras en cada nodo interno (min_samples_split): \n",
    "El número mínimo de muestras requeridas para dividir un nodo interno del árbol. Un valor demasiado bajo puede hacer que el modelo se ajuste demasiado a los datos de entrenamiento y pierda la capacidad de generalización.\n",
    "### e)\tMáximo número de características utilizadas en cada árbol (max_features): \n",
    "El número máximo de características que se consideran al dividir un nodo. Un valor demasiado bajo puede hacer que el modelo no tenga suficiente información para hacer predicciones precisas.\n",
    "### f)\tRandom State: \n",
    "Un valor numérico que permite reproducir el mismo resultado en cada ejecución del modelo. \n",
    "## 4.\tOptimizadores\n",
    "### Optuna: \n",
    "Es una biblioteca de optimización de hiperparámetros que utiliza el método de optimización por prueba y error. Utiliza un enfoque basado en árboles para encontrar la combinación óptima de hiperparámetros de un modelo (Murgante, Misra et al. 2013, Snoek, Larochelle et al. 2012).\n",
    "## 5.\tMétricas\n",
    "### a)\tAccuracy:\n",
    "Es la medida de la proporción de predicciones correctas en comparación con el total de predicciones.\n",
    "### b)\tPrecision: \n",
    "Es la medida de la proporción de verdaderos positivos en relación con el total de predicciones positivas.\n",
    "### c)\tRecall: \n",
    "Es la medida de la proporción de verdaderos positivos en relación con el total de valores positivos reales.\n",
    "### d)\tF1-score: \n",
    "Es una medida de precisión y recall combinados, es útil cuando se tiene un conjunto de datos desequilibrado.\n",
    "### e)\tAUC-ROC:\n",
    "Es la curva ROC (Receiver Operating Characteristic) que representa la relación entre la tasa de verdaderos positivos y la tasa de falsos positivos a diferentes niveles de umbral(Gao 2021) .\n",
    "\n"
   ]
  },
  {
   "attachments": {
    "image.png": {
     "image/png": "[encoded data removed]"
    }
   },
   "cell_type": "markdown",
   "id": "7fa4686d",
   "metadata": {},
   "source": [
    "# Preparación de Datos\n",
    "\n",
    "Para dar inicio, es necesario realizar una preparación de los datos descargados en la página de ChemBL, es importante aclarar que este archivo descargado en .CSV debe contar con las siguientes columnas, como se representa en la imagen a continuación:\n",
    "\n",
    "![image.png](attachment:image.png)\n"
   ]
  },
  {
   "cell_type": "markdown",
   "id": "c2546b6c",
   "metadata": {},
   "source": [
    "Después de obtener estas columnas únicamente en el archivo .CSV se procede a realizar el procesamiento de los datos con el siguiente procesador,que aplica las 5 reglas de lipinski."
   ]
  },
  {
   "cell_type": "markdown",
   "id": "3260a7ca",
   "metadata": {},
   "source": [
    "## Requisitos previos:\n",
    "Antes de comenzar, asegúrese de que las siguientes bibliotecas estén instaladas en su entorno Python: chembl_webresource_client, pandas, numpy, rdkit, seaborn, matplotlib, sklearn, y bayes_opt.\n"
   ]
  },
  {
   "cell_type": "markdown",
   "id": "8f2ccb5e",
   "metadata": {},
   "source": [
    "### Paso 1: Importar bibliotecas y módulos\n",
    "Abra su entorno de Python e importe todas las bibliotecas y módulos necesarios utilizando el código proporcionado.\n"
   ]
  },
  {
   "cell_type": "code",
   "execution_count": null,
   "id": "0bb6d788",
   "metadata": {},
   "outputs": [],
   "source": [
    "from chembl_webresource_client.new_client import new_client\n",
    "import pandas as pd\n",
    "import numpy as np\n",
    "from rdkit import Chem\n",
    "from rdkit.Chem import Descriptors\n",
    "from rdkit.Chem import MACCSkeys\n",
    "from rdkit.Chem.AllChem import GetMorganFingerprintAsBitVect\n",
    "from rdkit.Chem.AllChem import GetHashedTopologicalTorsionFingerprintAsBitVect\n",
    "from rdkit.Chem import RDKFingerprint\n",
    "from rdkit import DataStructs\n",
    "import pickle\n",
    "import numpy\n",
    "import seaborn as sns\n",
    "import matplotlib\n",
    "import pandas as pd\n",
    "import matplotlib.pyplot as plt\n",
    "import matplotlib.cm as cm\n",
    "from sklearn.ensemble import RandomForestClassifier\n",
    "from sklearn import svm\n",
    "from sklearn.model_selection import KFold\n",
    "from sklearn.metrics import auc\n",
    "from sklearn.metrics import accuracy_score\n",
    "from sklearn.metrics import recall_score\n",
    "from sklearn.metrics import roc_curve\n",
    "import seaborn as sns\n",
    "import matplotlib\n",
    "import matplotlib.pyplot as plt\n",
    "\n",
    "matplotlib.use('Agg')\n",
    "\n",
    "from sklearn.model_selection import train_test_split\n",
    "import numpy as np\n",
    "import pandas as pd\n",
    "import matplotlib.pyplot as plt\n",
    "import seaborn as sns\n",
    "from sklearn.model_selection import train_test_split,cross_val_score,StratifiedKFold\n",
    "from sklearn.metrics import confusion_matrix,classification_report,precision_score, recall_score, f1_score, accuracy_score\n",
    "from sklearn.ensemble import RandomForestClassifier\n",
    "from bayes_opt import BayesianOptimization\n",
    "from sklearn.model_selection import train_test_split\n",
    "\n",
    "import numpy as np\n",
    "import pandas as pd\n",
    "import matplotlib.pyplot as plt\n",
    "import seaborn as sns\n",
    "from sklearn.model_selection import train_test_split,cross_val_score,StratifiedKFold\n",
    "from sklearn.metrics import confusion_matrix,classification_report,precision_score, recall_score, f1_score, accuracy_score\n",
    "from sklearn.ensemble import RandomForestClassifier\n",
    "from bayes_opt import BayesianOptimization\n",
    "\n",
    "from sklearn import metrics\n",
    "\n",
    "from sklearn import metrics\n",
    "import matplotlib.pyplot as plt\n",
    "import numpy\n",
    "from sklearn import metrics\n",
    "import pickle\n",
    "import os"
   ]
  },
  {
   "cell_type": "markdown",
   "id": "dfc833b8",
   "metadata": {},
   "source": [
    "### Paso 2: Definir la regla de los cinco y cálculo de fingerprints\n",
    "En este paso, se define la función df_rule_of_five que verifica si las moléculas cumplen con la regla de los cinco y se calculan los fingerprints de las moléculas con la función calculate_fp.\n"
   ]
  },
  {
   "cell_type": "code",
   "execution_count": null,
   "id": "7a6e2dfb",
   "metadata": {},
   "outputs": [],
   "source": [
    "def df_rule_of_five(row):\n",
    "    smi = row['Smiles']\n",
    "    if not pd.isna(smi):\n",
    "        m = Chem.MolFromSmiles(str(smi))\n",
    "        if m is not None:\n",
    "            MW = Descriptors.ExactMolWt(m)\n",
    "            HBA = Descriptors.NumHAcceptors(m)\n",
    "            HBD = Descriptors.NumHDonors(m)\n",
    "            LogP = Descriptors.MolLogP(m)\n",
    "\n",
    "            conditions = [MW <= 500, HBA <= 10, HBD <= 5, LogP <= 5]\n",
    "\n",
    "            return pd.Series([MW, HBA, HBD, LogP, 'yes']) if conditions.count(True) >= 3 else pd.Series([MW, HBA, HBD, LogP, 'no'])\n",
    "\n",
    "    return pd.Series([np.nan, np.nan, np.nan, np.nan, np.nan])\n",
    "\n",
    "def calculate_fp(mol, method='rdk5', n_bits=500):\n",
    "    if method == 'maccs':\n",
    "        return MACCSkeys.GenMACCSKeys(mol)\n",
    "    if method == 'ecfp4':\n",
    "        return GetMorganFingerprintAsBitVect(mol, 2, nBits=n_bits, useFeatures=False)\n",
    "    if method == 'ecfp6':\n",
    "        return GetMorganFingerprintAsBitVect(mol, 3, nBits=n_bits, useFeatures=False)\n",
    "    if method == 'torsion':\n",
    "        return GetHashedTopologicalTorsionFingerprintAsBitVect(mol, nBits=n_bits)\n",
    "    if method == 'rdk5':\n",
    "        return RDKFingerprint(mol, maxPath=5, fpSize=1024, nBitsPerHash=2)\n",
    "\n",
    "def ConvertToNumpyArray(fp, arr):\n",
    "    if isinstance(fp, Chem.DataStructs.cDataStructs.ExplicitBitVect):\n",
    "        DataStructs.ConvertToNumpyArray(fp, arr)\n",
    "    else:\n",
    "        output_fp = np.zeros(fp.GetNumBits())\n",
    "        output_fp = DataStructs.ConvertToNumpyArray(fp, output_fp)\n",
    "        arr[:] = output_fp[:]\n",
    "    return arr\n",
    "\n",
    "def create_mol(df_l, n_bits, method='rdk5'):\n",
    "    df_l['mol'] = df_l.smiles.apply(Chem.MolFromSmiles)\n",
    "    df_l['bv'] = df_l.mol.apply(lambda x: calculate_fp(x, method, n_bits))\n",
    "    df_l['np_bv'] = np.zeros((len(df_l), n_bits)).tolist()\n",
    "    \n",
    "    for i, row in df_l.iterrows():\n",
    "        if row['bv'] is not None:\n",
    "            df_l.at[i, 'np_bv'] = ConvertToNumpyArray(row['bv'], np.zeros(n_bits))\n",
    "        else:\n",
    "            df_l.at[i, 'np_bv'] = np.zeros(n_bits)"
   ]
  },
  {
   "cell_type": "markdown",
   "id": "411939e2",
   "metadata": {},
   "source": [
    "### Paso 3: Cargar datos desde un archivo CSV:\n",
    "Lectura del archivo CSV, con los datos descargados de la pagina ChEMBL"
   ]
  },
  {
   "cell_type": "code",
   "execution_count": null,
   "id": "58d5b6d9",
   "metadata": {},
   "outputs": [],
   "source": [
    "ChEMBL_df = pd.read_csv('./BACE1.csv')"
   ]
  },
  {
   "cell_type": "markdown",
   "id": "3a019477",
   "metadata": {},
   "source": [
    "### Paso 4: Aplicar la regla de los cinco\n",
    "Se aplica la función df_rule_of_five a cada fila del DataFrame para verificar si las moléculas cumplen con la regla de los cinco. Los resultados se almacenan en un nuevo DataFrame llamado rule5_prop_df.\n"
   ]
  },
  {
   "cell_type": "code",
   "execution_count": null,
   "id": "fed56ec1",
   "metadata": {},
   "outputs": [],
   "source": [
    "rule5_prop_df = ChEMBL_df.apply(df_rule_of_five, axis=1)\n",
    "rule5_prop_df.columns= ['MW', 'HBA', 'HBD', 'LogP', 'rule_of_five_conform']\n",
    "ChEMBL_df = ChEMBL_df.join(rule5_prop_df)"
   ]
  },
  {
   "cell_type": "markdown",
   "id": "bc797568",
   "metadata": {},
   "source": [
    "### Paso 5: Filtrar las moléculas que cumplen con la regla de los cinco\n",
    "Se filtran las moléculas que cumplen con la regla de los cinco y que tienen una etiqueta de actividad distinta a 'Intermediate'. Los resultados se almacenan en el DataFrame filteredyes_df.\n"
   ]
  },
  {
   "cell_type": "code",
   "execution_count": null,
   "id": "5305d610",
   "metadata": {},
   "outputs": [],
   "source": [
    "filteredyes_df = ChEMBL_df[(ChEMBL_df['rule_of_five_conform'] == 'yes') & (ChEMBL_df['Activity_Type'] != 'Intermediate')]"
   ]
  },
  {
   "cell_type": "markdown",
   "id": "5f6b4bb6",
   "metadata": {},
   "source": [
    "### Paso 6: Seleccionar columnas relevantes\n",
    "Se seleccionan las columnas 'Molecule_ChEMBL_ID', 'Activity_Type', y 'Smiles' del DataFrame filteredyes_df. Se crea una nueva columna 'active' que asigna 1 a las moléculas activas y 0 a las inactivas.\n"
   ]
  },
  {
   "cell_type": "code",
   "execution_count": null,
   "id": "081f9ba8",
   "metadata": {},
   "outputs": [],
   "source": [
    "datosfinales = filteredyes_df[['Molecule_ChEMBL_ID', 'Activity_Type', 'Smiles']].copy()\n",
    "datosfinales['active'] = 0\n",
    "datosfinales.loc[datosfinales['Activity_Type'] == \"Active\", 'active'] = 1"
   ]
  },
  {
   "cell_type": "markdown",
   "id": "b1ccb758",
   "metadata": {},
   "source": [
    "### Paso 7: Contar el número de moléculas activas e inactivas\n",
    "Se cuentan el número de moléculas activas e inactivas en el DataFrame datosfinales.\n"
   ]
  },
  {
   "cell_type": "code",
   "execution_count": null,
   "id": "e532d8f6",
   "metadata": {},
   "outputs": [],
   "source": [
    "num_actives = len(datosfinales[datosfinales['active'] == 1])\n",
    "num_inactives = len(datosfinales[datosfinales['active'] == 0])\n",
    "print('Actives: %d, Inactives: %d' % (num_actives, num_inactives))"
   ]
  },
  {
   "cell_type": "markdown",
   "id": "dc5b001b",
   "metadata": {},
   "source": [
    "### Paso 8: Crear moléculas y calcular fingerprints\n",
    "Se crean moléculas a partir de las cadenas SMILES y se calculan los fingerprints para cada molécula. Los resultados se almacenan en el DataFrame df_new.\n"
   ]
  },
  {
   "cell_type": "code",
   "execution_count": null,
   "id": "ace7c6f3",
   "metadata": {},
   "outputs": [],
   "source": [
    "datosfinales = datosfinales.rename(columns={'Smiles': 'smiles'})\n",
    "df_new = datosfinales.copy()\n",
    "create_mol(df_new, 500)"
   ]
  },
  {
   "cell_type": "markdown",
   "id": "8a1170b2",
   "metadata": {},
   "source": [
    "### Paso 9: Contar el número de moléculas activas e inactivas después de crear las moléculas\n",
    "Se vuelve a contar el número de moléculas activas e inactivas en el DataFrame df_new.\n"
   ]
  },
  {
   "cell_type": "code",
   "execution_count": null,
   "id": "af236cc5",
   "metadata": {},
   "outputs": [],
   "source": [
    "num_actives = len(df_new[df_new['active'] == 1])\n",
    "num_inactives = len(df_new[df_new['active'] == 0])\n",
    "print('Actives: %d, Inactives: %d' % (num_actives, num_inactives))\n"
   ]
  },
  {
   "cell_type": "markdown",
   "id": "f8e8230f",
   "metadata": {},
   "source": [
    "### Paso 10: Seleccionar columnas relevantes para el entrenamiento\n",
    "Se seleccionan las columnas 'np_bv' y 'active' del DataFrame df_new. Estos datos se utilizarán para el entrenamiento de modelos de aprendizaje automático.\n"
   ]
  },
  {
   "cell_type": "code",
   "execution_count": null,
   "id": "3fa45d5c",
   "metadata": {},
   "outputs": [],
   "source": [
    "datosentrenamiento_df = df_new[['np_bv', 'active']].copy()\n",
    "datosentrenamiento_df.reset_index(drop=True, inplace=True)"
   ]
  },
  {
   "cell_type": "markdown",
   "id": "8c2b77ae",
   "metadata": {},
   "source": [
    "### Paso 11: Guardar el DataFrame en un archivo pickle\n",
    "Finalmente, se guarda el DataFrame datosentrenamiento_df en un archivo pickle llamado 'datosentrenamiento_df.pickle'.\n"
   ]
  },
  {
   "cell_type": "code",
   "execution_count": null,
   "id": "92943183",
   "metadata": {},
   "outputs": [],
   "source": [
    "with open('datosentrenamiento_df.pickle', 'wb') as f:\n",
    "    pickle.dump(datosentrenamiento_df, f)"
   ]
  },
  {
   "cell_type": "markdown",
   "id": "5ae421c6",
   "metadata": {},
   "source": [
    "Script elaborado por Nelson Alejandro Amaya Orozco, como trabajo de grado, para el grupo de investigacion RamirezLAB"
   ]
  }
 ],
 "metadata": {
  "kernelspec": {
   "display_name": "Python 3 (ipykernel)",
   "language": "python",
   "name": "python3"
  },
  "language_info": {
   "codemirror_mode": {
    "name": "ipython",
    "version": 3
   },
   "file_extension": ".py",
   "mimetype": "text/x-python",
   "name": "python",
   "nbconvert_exporter": "python",
   "pygments_lexer": "ipython3",
   "version": "3.9.7"
  }
 },
 "nbformat": 4,
 "nbformat_minor": 5
}
