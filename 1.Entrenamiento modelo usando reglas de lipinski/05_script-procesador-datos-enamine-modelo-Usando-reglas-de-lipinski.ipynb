{
 "cells": [
  {
   "cell_type": "markdown",
   "id": "c5be9b4d",
   "metadata": {},
   "source": [
    "# Procesamiento de datos Enamine\n",
    "Una ves realizado la validacion de los modelos es necesario procesar los datos de enamine para ser utilizados.\n"
   ]
  },
  {
   "cell_type": "markdown",
   "id": "92c9091d",
   "metadata": {},
   "source": [
    "## Requisitos previos:\n",
    "Asegúrate de tener un entorno de Python con las siguientes bibliotecas instaladas: matplotlib, pandas, seaborn, scikit-learn, imbalanced-learn, optuna."
   ]
  },
  {
   "cell_type": "code",
   "execution_count": null,
   "id": "0bb6d788",
   "metadata": {},
   "outputs": [],
   "source": [
    "from chembl_webresource_client.new_client import new_client\n",
    "import pandas as pd\n",
    "import numpy as np\n",
    "from rdkit.Chem import PandasTools\n",
    "from rdkit import Chem\n",
    "from rdkit.Chem import Descriptors\n",
    "from rdkit.Chem import Draw\n",
    "from rdkit import Chem\n",
    "from rdkit.Chem import RDKFingerprint\n",
    "from rdkit.Chem.AllChem import GetMorganFingerprintAsBitVect\n",
    "from rdkit.Chem.AllChem import GetHashedTopologicalTorsionFingerprintAsBitVect\n",
    "from rdkit.Chem import MACCSkeys\n",
    "from rdkit.DataStructs import ConvertToNumpyArray\n",
    "from rdkit.Chem import AllChem as Chem\n",
    "from rdkit.Chem.Draw import IPythonConsole\n",
    "from rdkit import DataStructs\n",
    "import numpy\n",
    "import seaborn as sns\n",
    "import matplotlib\n",
    "import pandas as pd\n",
    "import matplotlib.pyplot as plt\n",
    "import matplotlib.cm as cm\n",
    "from sklearn.ensemble import RandomForestClassifier\n",
    "from sklearn import svm\n",
    "from sklearn.model_selection import KFold\n",
    "from sklearn.metrics import auc\n",
    "from sklearn.metrics import accuracy_score\n",
    "from sklearn.metrics import recall_score\n",
    "from sklearn.metrics import roc_curve\n",
    "import seaborn as sns\n",
    "import matplotlib\n",
    "import matplotlib.pyplot as plt\n",
    "matplotlib.use('Agg')\n",
    "from sklearn.model_selection import train_test_split\n",
    "import numpy as np\n",
    "import pandas as pd\n",
    "import matplotlib.pyplot as plt\n",
    "import seaborn as sns\n",
    "from sklearn.model_selection import train_test_split,cross_val_score,StratifiedKFold\n",
    "from sklearn.metrics import confusion_matrix,classification_report,precision_score, recall_score, f1_score, accuracy_score\n",
    "from sklearn.ensemble import RandomForestClassifier\n",
    "from bayes_opt import BayesianOptimization\n",
    "from sklearn.model_selection import train_test_split\n",
    "import numpy as np\n",
    "import pandas as pd\n",
    "import matplotlib.pyplot as plt\n",
    "import seaborn as sns\n",
    "from sklearn.model_selection import train_test_split,cross_val_score,StratifiedKFold\n",
    "from sklearn.metrics import confusion_matrix,classification_report,precision_score, recall_score, f1_score, accuracy_score\n",
    "from sklearn.ensemble import RandomForestClassifier\n",
    "from bayes_opt import BayesianOptimization\n",
    "from sklearn import metrics\n",
    "from sklearn import metrics\n",
    "import matplotlib.pyplot as plt\n",
    "import numpy\n",
    "from sklearn import metrics\n",
    "import pickle\n",
    "import os\n",
    "import pandas as pd\n",
    "from rdkit import Chem\n",
    "from rdkit.Chem import Descriptors\n",
    "from rdkit import Chem\n",
    "from rdkit.Chem import rdMolDescriptors"
   ]
  },
  {
   "cell_type": "markdown",
   "id": "724d49f5",
   "metadata": {},
   "source": [
    "## Generación de Huellas Digitales\n",
    "Para iniciar la ejecución de las predicciones del modelo descarga los datos que necesites para realizar su predicción, si deseas utilizar las moléculas de la base de datos de Enamine en formato.sdf la implementación de los datos se realiza de la siguiente manera:\n",
    "\n",
    "El código comienza importando varias bibliotecas que se utilizan para diversas tareas, como manipulación de datos, generación de huellas digitales y almacenamiento de datos. Algunas de las bibliotecas clave incluyen: rdkit, seaborn, matplotlib, pandas, numpy, scikit-learn, BayesianOptimization y pickle. Asegúrate de tener estas bibliotecas instaladas en tu entorno de Python. Luego, la función read_smi_file(smi_file) se utiliza para leer un archivo SMILES especificado (smi_file) y almacenar los datos en una lista, donde cada línea del archivo se divide en columnas y se almacenan en la lista de datos. Seguidamente, la función calculate_fingerprints(smi_file, method, n_bits=500) genera huellas digitales de las moléculas a partir de los datos del archivo SMILES. Para cada molécula en el archivo, se crea la molécula a partir de su representación SMILES, se calcula la huella digital utilizando uno de los métodos disponibles ('morgan' o 'rdk5'), especificando el método y el número de bits como argumentos, y se almacena el resultado en una lista de tuplas que contiene la huella digital y el ID del catálogo asociado."
   ]
  },
  {
   "cell_type": "code",
   "execution_count": null,
   "id": "e73a598b",
   "metadata": {},
   "outputs": [],
   "source": [
    "def calculate_fingerprints(sdf_file, method):\n",
    "    suppl = Chem.SDMolSupplier(sdf_file)\n",
    "    mols = [x for x in suppl if x is not None]\n",
    "\n",
    "    fingerprints = []\n",
    "    for mol in mols:\n",
    "        if method == 'morgan':\n",
    "            fingerprint = rdMolDescriptors.GetMorganFingerprintAsBitVect(mol, 2, nBits=1024)\n",
    "        elif method == 'rdk5':\n",
    "            fingerprint = RDKFingerprint(mol, maxPath=5, fpSize=1024, nBitsPerHash=2)\n",
    "        else:\n",
    "            raise ValueError(f\"El método {method} no está soportado.\")\n",
    "\n",
    "        fingerprints.append(fingerprint)\n",
    "\n",
    "    return fingerprints"
   ]
  },
  {
   "cell_type": "markdown",
   "id": "b26d4e9a",
   "metadata": {},
   "source": [
    "## Resultados corrida\n",
    "\n",
    "El código inicia configurando el directorio de trabajo actual utilizando os.chdir('/home/aamaya/alejandroamaya/Molecula_GSK3B'). Es importante asegurarse de que este directorio tenga acceso a los archivos necesarios. Luego, se procede a la generación de huellas digitales. Se especifica el archivo SMILES que contiene las moléculas a analizar (smi_file) y el método para generar las huellas digitales (method), pudiendo también definir el número de bits para estas. Las huellas digitales se generan mediante la función calculate_fingerprints. Posteriormente, se crea un DataFrame (df) que contiene las huellas digitales generadas y los IDs del catálogo asociados a las moléculas. Este DataFrame se guarda en un archivo CSV llamado 'EnamineFingerprints.csv' y en un archivo pickle 'EnamineFingerprints.pickle'. Los datos resultantes se almacenan en archivos CSV y pickle para su posterior análisis. El archivo CSV permite importar los datos en herramientas de análisis de datos, mientras que el archivo pickle almacena los datos en un formato binario. Por último, para ejecutar el código, es necesario verificar que el directorio de trabajo actual tenga acceso al archivo SMILES y otros archivos requeridos. Al ejecutar el código, se generarán las huellas digitales de las moléculas a partir del archivo SMILES y se guardarán en los formatos especificados ('EnamineFingerprints.csv' y 'EnamineFingerprints.pickle').\n"
   ]
  },
  {
   "cell_type": "code",
   "execution_count": null,
   "id": "f8800ae3",
   "metadata": {},
   "outputs": [],
   "source": [
    "import os\n",
    "import pandas as pd\n",
    "import pickle\n",
    "\n",
    "os.chdir('/home/aamaya/BACE1')\n",
    "sdf_file = \"./Enamine.sdf\"  \n",
    "method = \"rdk5\"\n",
    "fingerprints = calculate_fingerprints(sdf_file, method)\n",
    "decoys_df = pd.DataFrame(fingerprints)\n",
    "print(fingerprints[26])\n",
    "print(decoys_df.head(26))\n",
    "with open('EnamineFP.pickle', 'wb') as f:\n",
    "    pickle.dump(decoys_df, f)"
   ]
  },
  {
   "cell_type": "markdown",
   "id": "5ae421c6",
   "metadata": {},
   "source": [
    "Script elaborado por Nelson Alejandro Amaya Orozco, como trabajo de grado, para el grupo de investigacion RamirezLAB"
   ]
  }
 ],
 "metadata": {
  "kernelspec": {
   "display_name": "Python 3 (ipykernel)",
   "language": "python",
   "name": "python3"
  },
  "language_info": {
   "codemirror_mode": {
    "name": "ipython",
    "version": 3
   },
   "file_extension": ".py",
   "mimetype": "text/x-python",
   "name": "python",
   "nbconvert_exporter": "python",
   "pygments_lexer": "ipython3",
   "version": "3.9.7"
  }
 },
 "nbformat": 4,
 "nbformat_minor": 5
}
