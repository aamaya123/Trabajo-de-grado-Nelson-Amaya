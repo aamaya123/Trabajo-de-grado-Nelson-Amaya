{
 "cells": [
  {
   "attachments": {},
   "cell_type": "markdown",
   "id": "c5be9b4d",
   "metadata": {},
   "source": [
    "# Generacion de Smiles del Catalogo multitarget"
   ]
  },
  {
   "cell_type": "markdown",
   "id": "cb5c2008",
   "metadata": {},
   "source": [
    "El código comienza importando las bibliotecas necesarias, incluyendo rdkit y pandas. A continuación, define la variable sdf_file con la ruta al archivo SDF de Enamine. Luego, carga un archivo CSV llamado 'catalogomultitarget.csv' en un DataFrame llamado df_catalogo, que contiene información sobre los Catalog ID. Se inicializan listas vacías para almacenar los resultados y se itera a través de los Catalog ID en el DataFrame df_catalogo. Para cada Catalog ID, se busca la correspondiente molécula en el archivo SDF y se recupera el SMILES de esa molécula, almacenándolo en una lista. Se crea un nuevo DataFrame llamado df_resultados con dos columnas: 'Catalog ID' y 'SMILES', y se llenan las columnas con los valores obtenidos. Los resultados se guardan en un archivo CSV llamado 'smilesmultitarget.csv' y en un archivo pickle llamado 'smilesmultitarget.pickle'. Durante el proceso de recuperación, se imprime en la consola los Catalog ID y sus correspondientes SMILES, si se encuentran. Para ejecutar este código, es necesario tener el archivo SDF 'Enamine.sdf' y el archivo CSV 'catalogomultitarget.csv' en la misma carpeta que el código. Luego, se ejecuta el código para recuperar los SMILES de las moléculas y almacenar los resultados en archivos CSV y pickle."
   ]
  },
  {
   "cell_type": "markdown",
   "id": "92c9091d",
   "metadata": {},
   "source": [
    "## Requisitos previos:\n",
    "Asegúrate de tener un entorno de Python con las siguientes bibliotecas instaladas: matplotlib, pandas, seaborn, scikit-learn, imbalanced-learn, optuna."
   ]
  },
  {
   "cell_type": "code",
   "execution_count": null,
   "id": "0bb6d788",
   "metadata": {},
   "outputs": [],
   "source": [
    "from rdkit import Chem\n",
    "import pandas as pd"
   ]
  },
  {
   "cell_type": "markdown",
   "id": "724d49f5",
   "metadata": {},
   "source": [
    "Ejecucion codigo"
   ]
  },
  {
   "cell_type": "code",
   "execution_count": null,
   "id": "e73a598b",
   "metadata": {},
   "outputs": [],
   "source": [
    "sdf_file = 'Enamine.sdf'\n",
    "\n",
    "df_catalogo = pd.read_csv('catalogomultitarget.csv')\n",
    "\n",
    "catalog_ids = []\n",
    "smiles_list = []\n",
    "\n",
    "\n",
    "for catalog_id_to_find in df_catalogo['Catalog_ID']:  \n",
    "    smiles = None\n",
    "    for molecule in Chem.SDMolSupplier(sdf_file):\n",
    "        if molecule is not None:\n",
    "            current_catalog_id = molecule.GetProp('Catalog ID')  \n",
    "            if current_catalog_id == catalog_id_to_find:\n",
    "                smiles = Chem.MolToSmiles(molecule)\n",
    "                break  \n",
    "    catalog_ids.append(catalog_id_to_find)\n",
    "    smiles_list.append(smiles if smiles is not None else '')\n",
    "\n",
    "    if smiles is not None:\n",
    "        print(f\"Catalog ID '{catalog_id_to_find}': SMILES '{smiles}'\")\n",
    "    else:\n",
    "        print(f\"No se encontró un SMILES para el Catalog ID '{catalog_id_to_find}'\")\n",
    "\n",
    "\n",
    "df_resultados = pd.DataFrame({'Catalog ID': catalog_ids, 'SMILES': smiles_list})\n",
    "\n",
    "\n",
    "df_resultados.to_csv('smilesmultitarget.csv', index=False)\n",
    "\n",
    "\n",
    "df_resultados.to_pickle('smilesmultitarget.pickle')"
   ]
  },
  {
   "cell_type": "markdown",
   "id": "5ae421c6",
   "metadata": {},
   "source": [
    "Script elaborado por Nelson Alejandro Amaya Orozco, como trabajo de grado, para el grupo de investigacion RamirezLAB"
   ]
  }
 ],
 "metadata": {
  "kernelspec": {
   "display_name": "Python 3 (ipykernel)",
   "language": "python",
   "name": "python3"
  },
  "language_info": {
   "codemirror_mode": {
    "name": "ipython",
    "version": 3
   },
   "file_extension": ".py",
   "mimetype": "text/x-python",
   "name": "python",
   "nbconvert_exporter": "python",
   "pygments_lexer": "ipython3",
   "version": "3.9.7"
  }
 },
 "nbformat": 4,
 "nbformat_minor": 5
}
