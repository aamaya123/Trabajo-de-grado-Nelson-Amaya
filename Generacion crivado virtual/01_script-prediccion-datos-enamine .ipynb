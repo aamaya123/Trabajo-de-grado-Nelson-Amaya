{
 "cells": [
  {
   "cell_type": "markdown",
   "id": "c5be9b4d",
   "metadata": {},
   "source": [
    "# Prediccion para base de datos de Enamine usando modelo validado\n",
    "Una ves generadas las validaciones para cada proteina, se procede a seleccionar el modelo con mejor resultado, ya sea el entrenado con las reglas de lipinski, o el que no se encuentra con estas, a continuacion se realiza el ejemplo con el modelo que fue entrenado con las reglas de lipinski.\n"
   ]
  },
  {
   "cell_type": "markdown",
   "id": "92c9091d",
   "metadata": {},
   "source": [
    "## Requisitos previos:\n",
    "Asegúrate de tener un entorno de Python con las siguientes bibliotecas instaladas: matplotlib, pandas, seaborn, scikit-learn, imbalanced-learn, optuna."
   ]
  },
  {
   "cell_type": "code",
   "execution_count": null,
   "id": "0bb6d788",
   "metadata": {},
   "outputs": [],
   "source": [
    "from chembl_webresource_client.new_client import new_client\n",
    "import pandas as pd\n",
    "import numpy as np\n",
    "from rdkit.Chem import PandasTools\n",
    "from rdkit import Chem\n",
    "from rdkit.Chem import Descriptors\n",
    "from rdkit.Chem import Draw\n",
    "from rdkit import Chem\n",
    "from rdkit.Chem import RDKFingerprint\n",
    "from rdkit.Chem.AllChem import GetMorganFingerprintAsBitVect\n",
    "from rdkit.Chem.AllChem import GetHashedTopologicalTorsionFingerprintAsBitVect\n",
    "from rdkit.Chem import MACCSkeys\n",
    "from rdkit.DataStructs import ConvertToNumpyArray\n",
    "from rdkit.Chem import AllChem as Chem\n",
    "from rdkit.Chem.Draw import IPythonConsole\n",
    "from rdkit import DataStructs\n",
    "import numpy\n",
    "import seaborn as sns\n",
    "import matplotlib\n",
    "import pandas as pd\n",
    "import matplotlib.pyplot as plt\n",
    "import matplotlib.cm as cm\n",
    "from sklearn.ensemble import RandomForestClassifier\n",
    "from sklearn import svm\n",
    "from sklearn.model_selection import KFold\n",
    "from sklearn.metrics import auc\n",
    "from sklearn.metrics import accuracy_score\n",
    "from sklearn.metrics import recall_score\n",
    "from sklearn.metrics import roc_curve\n",
    "import seaborn as sns\n",
    "import matplotlib\n",
    "import matplotlib.pyplot as plt\n",
    "matplotlib.use('Agg')\n",
    "from sklearn.model_selection import train_test_split\n",
    "import numpy as np\n",
    "import pandas as pd\n",
    "import matplotlib.pyplot as plt\n",
    "import seaborn as sns\n",
    "from sklearn.model_selection import train_test_split,cross_val_score,StratifiedKFold\n",
    "from sklearn.metrics import confusion_matrix,classification_report,precision_score, recall_score, f1_score, accuracy_score\n",
    "from sklearn.ensemble import RandomForestClassifier\n",
    "from bayes_opt import BayesianOptimization\n",
    "from sklearn.model_selection import train_test_split\n",
    "import numpy as np\n",
    "import pandas as pd\n",
    "import matplotlib.pyplot as plt\n",
    "import seaborn as sns\n",
    "from sklearn.model_selection import train_test_split,cross_val_score,StratifiedKFold\n",
    "from sklearn.metrics import confusion_matrix,classification_report,precision_score, recall_score, f1_score, accuracy_score\n",
    "from sklearn.ensemble import RandomForestClassifier\n",
    "from bayes_opt import BayesianOptimization\n",
    "from sklearn import metrics\n",
    "from sklearn import metrics\n",
    "import matplotlib.pyplot as plt\n",
    "import numpy\n",
    "from sklearn import metrics\n",
    "import pickle\n",
    "import pandas as pd\n",
    "from rdkit import Chem\n",
    "from rdkit.Chem import Descriptors\n",
    "from rdkit import Chem\n",
    "from rdkit.Chem import rdMolDescriptors\n",
    "import pickle\n",
    "import pickle\n",
    "import pickletools\n",
    "import os"
   ]
  },
  {
   "cell_type": "markdown",
   "id": "724d49f5",
   "metadata": {},
   "source": [
    "## Generación de prediccion base de datos Enamine\n",
    "El código realiza una serie de pasos para realizar predicciones de bioactividad basadas en huellas digitales. Comienza importando bibliotecas necesarias y luego configura el directorio de trabajo. Luego, carga datos de huellas digitales desde un archivo pickle y un modelo entrenado desde otro archivo pickle. Los datos se preparan para la predicción y se realizan las predicciones. Se obtienen los IDs de catálogo y se crea un DataFrame con los resultados. Estos resultados se guardan en archivos CSV y pickle para su posterior análisis. Finalmente, se ejecuta el código para realizar las predicciones y almacenar los resultados. Se destaca la importancia de organizar los datos en un archivo CSV para facilitar el análisis posterior."
   ]
  },
  {
   "cell_type": "code",
   "execution_count": null,
   "id": "e73a598b",
   "metadata": {},
   "outputs": [],
   "source": [
    "os.chdir('/home/aamaya/BACE1')\n",
    "\n",
    "with open('modelo_entrenado.pickle', 'rb') as handle:\n",
    "    modelo = pickle.load(handle)\n",
    "\n",
    "with open('EnamineFingerprints.pickle', 'rb') as handle:\n",
    "    datos_validacion = pickle.load(handle)\n",
    "\n",
    "from sklearn.preprocessing import LabelEncoder\n",
    "le = LabelEncoder()    \n",
    "X_val = datos_validacion.iloc[:, 0].apply(lambda x: le.fit_transform(list(x))).tolist()\n",
    "y_pred_proba = modelo.predict_proba(X_val)[:, 1]\n",
    "y_pred = modelo.predict(X_val)\n",
    "\n",
    "# Obtener el Catalog ID desde datos_validacion\n",
    "catalog_ids = datos_validacion['Catalog ID']\n",
    "\n",
    "# Crear un dataframe de pandas para los datos\n",
    "df = pd.DataFrame({'Catalog ID': catalog_ids, 'Bioactividad': y_pred, 'Probabilidad Bioactividad 1': y_pred_proba})\n",
    "\n",
    "# Guardar el dataframe en formato CSV\n",
    "df.to_csv('prediccion_enamineBACE1.csv', index=False)\n",
    "\n",
    "with open('prediccion_enamineBACE1.pickle', 'wb') as f:\n",
    "    pickle.dump(df, f)"
   ]
  },
  {
   "cell_type": "markdown",
   "id": "5ae421c6",
   "metadata": {},
   "source": [
    "Script elaborado por Nelson Alejandro Amaya Orozco, como trabajo de grado, para el grupo de investigacion RamirezLAB"
   ]
  }
 ],
 "metadata": {
  "kernelspec": {
   "display_name": "Python 3 (ipykernel)",
   "language": "python",
   "name": "python3"
  },
  "language_info": {
   "codemirror_mode": {
    "name": "ipython",
    "version": 3
   },
   "file_extension": ".py",
   "mimetype": "text/x-python",
   "name": "python",
   "nbconvert_exporter": "python",
   "pygments_lexer": "ipython3",
   "version": "3.9.7"
  }
 },
 "nbformat": 4,
 "nbformat_minor": 5
}
