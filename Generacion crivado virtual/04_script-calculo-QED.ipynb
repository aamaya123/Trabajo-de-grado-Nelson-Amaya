{
 "cells": [
  {
   "cell_type": "markdown",
   "id": "c5be9b4d",
   "metadata": {},
   "source": [
    "# QED"
   ]
  },
  {
   "cell_type": "markdown",
   "id": "cb5c2008",
   "metadata": {},
   "source": [
    "Se calcula el QED, que significa \"Descriptor de Equilibrio Cuantitativo\" (Quantitative Estimate of Drug-likeness), es un valor numérico que se utiliza en la investigación farmacéutica y química medicinal para evaluar la \"idoneidad\" de una molécula como un posible candidato para convertirse en un fármaco o medicamento. El QED se utiliza para estimar cuán \"parecida a un medicamento\" es una molécula en función de ciertas propiedades y características que son deseables en los fármacos. Estas propiedades incluyen solubilidad, permeabilidad, toxicidad y otras consideraciones farmacéuticas y químicas.\n",
    "El cálculo del QED se basa en un modelo estadístico y utiliza un conjunto de reglas y propiedades químicas y farmacéuticas para asignar una puntuación a una molécula. Cuanto mayor sea la puntuación del QED, mayor será la probabilidad de que la molécula cumpla con las características deseadas de un fármaco. En otras palabras, un QED alto sugiere que una molécula tiene una mayor probabilidad de ser un buen candidato para el desarrollo de un medicamento.\n"
   ]
  },
  {
   "cell_type": "markdown",
   "id": "92c9091d",
   "metadata": {},
   "source": [
    "## Requisitos previos:\n",
    "Asegúrate de tener un entorno de Python con las siguientes bibliotecas instaladas: matplotlib, pandas, seaborn, scikit-learn, imbalanced-learn, optuna."
   ]
  },
  {
   "cell_type": "code",
   "execution_count": null,
   "id": "0bb6d788",
   "metadata": {},
   "outputs": [],
   "source": [
    "import pandas as pd\n",
    "from rdkit import Chem\n",
    "from rdkit.Chem import QED"
   ]
  },
  {
   "cell_type": "markdown",
   "id": "724d49f5",
   "metadata": {},
   "source": [
    "El código comienza importando las bibliotecas necesarias, incluyendo pandas y rdkit. Luego, carga un archivo pickle llamado \"smilesmultitarget.pickle\" en un DataFrame llamado data, que debe contener información sobre las moléculas en formato SMILES. Se define la variable smiles_column que contiene el nombre de la columna que almacena las estructuras químicas en formato SMILES en el DataFrame. A continuación, se agrega una nueva columna llamada \"QED\" al DataFrame data, que contendrá los valores de QED calculados para cada molécula. Se utiliza una función lambda para calcular el QED de cada molécula. Si el SMILES es válido y se puede convertir en una estructura química, se calcula el QED y se asigna a la columna \"QED\". Si el SMILES no es válido, se asigna un valor None. Finalmente, se guarda el DataFrame data en un archivo CSV llamado \"QEDSMILES.csv\", donde se almacenan los resultados del cálculo del QED junto con los SMILES. Estos resultados pueden utilizarse para seleccionar las moléculas con mejor presencia multitarget según las proteínas de interés. Es importante seguir el orden de los archivos mencionados en el manual, ya que cada uno alimenta al siguiente paso del proceso. Además, es crucial que los nombres de las columnas en el código coincidan exactamente con los nombres especificados en el manual y en las ilustraciones, ya que de lo contrario el modelo omitirá esos datos."
   ]
  },
  {
   "cell_type": "code",
   "execution_count": null,
   "id": "e73a598b",
   "metadata": {},
   "outputs": [],
   "source": [
    "data = pd.read_pickle(\"smilesmultitarget.pickle\")\n",
    "\n",
    "smiles_column = \"SMILES\"\n",
    "\n",
    "data[\"QED\"] = data[smiles_column].apply(lambda x: QED.qed(Chem.MolFromSmiles(x)) if Chem.MolFromSmiles(x) is not None else None)\n",
    "\n",
    "data.to_csv(\"QEDSMILES.csv\", index=False)\n",
    "\n",
    "print(\"Los datos se han guardado en QEDSMILES.csv\")"
   ]
  },
  {
   "cell_type": "markdown",
   "id": "5ae421c6",
   "metadata": {},
   "source": [
    "Script elaborado por Nelson Alejandro Amaya Orozco, como trabajo de grado, para el grupo de investigacion RamirezLAB"
   ]
  }
 ],
 "metadata": {
  "kernelspec": {
   "display_name": "Python 3 (ipykernel)",
   "language": "python",
   "name": "python3"
  },
  "language_info": {
   "codemirror_mode": {
    "name": "ipython",
    "version": 3
   },
   "file_extension": ".py",
   "mimetype": "text/x-python",
   "name": "python",
   "nbconvert_exporter": "python",
   "pygments_lexer": "ipython3",
   "version": "3.9.7"
  }
 },
 "nbformat": 4,
 "nbformat_minor": 5
}
