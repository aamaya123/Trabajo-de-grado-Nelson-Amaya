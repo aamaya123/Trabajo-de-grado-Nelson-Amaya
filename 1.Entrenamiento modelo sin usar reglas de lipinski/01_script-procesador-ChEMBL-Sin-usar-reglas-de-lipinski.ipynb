{
 "cells": [
  {
   "cell_type": "markdown",
   "id": "3260a7ca",
   "metadata": {},
   "source": [
    "## Requisitos previos:\n",
    "Antes de comenzar, asegúrese de que las siguientes bibliotecas estén instaladas en su entorno Python: chembl_webresource_client, pandas, numpy, rdkit, seaborn, matplotlib, sklearn, y bayes_opt.\n"
   ]
  },
  {
   "cell_type": "markdown",
   "id": "8f2ccb5e",
   "metadata": {},
   "source": [
    "### Paso 1: Importar bibliotecas y módulos\n",
    "Abra su entorno de Python e importe todas las bibliotecas y módulos necesarios utilizando el código proporcionado.\n"
   ]
  },
  {
   "cell_type": "code",
   "execution_count": null,
   "id": "0bb6d788",
   "metadata": {},
   "outputs": [],
   "source": [
    "from chembl_webresource_client.new_client import new_client\n",
    "import pandas as pd\n",
    "import numpy as np\n",
    "from rdkit import Chem\n",
    "from rdkit.Chem import Descriptors\n",
    "from rdkit.Chem import MACCSkeys\n",
    "from rdkit.Chem.AllChem import GetMorganFingerprintAsBitVect\n",
    "from rdkit.Chem.AllChem import GetHashedTopologicalTorsionFingerprintAsBitVect\n",
    "from rdkit.Chem import RDKFingerprint\n",
    "from rdkit import DataStructs\n",
    "import pickle\n",
    "import numpy\n",
    "import seaborn as sns\n",
    "import matplotlib\n",
    "import pandas as pd\n",
    "import matplotlib.pyplot as plt\n",
    "import matplotlib.cm as cm\n",
    "from sklearn.ensemble import RandomForestClassifier\n",
    "from sklearn import svm\n",
    "from sklearn.model_selection import KFold\n",
    "from sklearn.metrics import auc\n",
    "from sklearn.metrics import accuracy_score\n",
    "from sklearn.metrics import recall_score\n",
    "from sklearn.metrics import roc_curve\n",
    "import seaborn as sns\n",
    "import matplotlib\n",
    "import matplotlib.pyplot as plt\n",
    "\n",
    "matplotlib.use('Agg')\n",
    "\n",
    "from sklearn.model_selection import train_test_split\n",
    "import numpy as np\n",
    "import pandas as pd\n",
    "import matplotlib.pyplot as plt\n",
    "import seaborn as sns\n",
    "from sklearn.model_selection import train_test_split,cross_val_score,StratifiedKFold\n",
    "from sklearn.metrics import confusion_matrix,classification_report,precision_score, recall_score, f1_score, accuracy_score\n",
    "from sklearn.ensemble import RandomForestClassifier\n",
    "from bayes_opt import BayesianOptimization\n",
    "from sklearn.model_selection import train_test_split\n",
    "\n",
    "import numpy as np\n",
    "import pandas as pd\n",
    "import matplotlib.pyplot as plt\n",
    "import seaborn as sns\n",
    "from sklearn.model_selection import train_test_split,cross_val_score,StratifiedKFold\n",
    "from sklearn.metrics import confusion_matrix,classification_report,precision_score, recall_score, f1_score, accuracy_score\n",
    "from sklearn.ensemble import RandomForestClassifier\n",
    "from bayes_opt import BayesianOptimization\n",
    "\n",
    "from sklearn import metrics\n",
    "\n",
    "from sklearn import metrics\n",
    "import matplotlib.pyplot as plt\n",
    "import numpy\n",
    "from sklearn import metrics\n",
    "import pickle\n",
    "import os"
   ]
  },
  {
   "cell_type": "markdown",
   "id": "dfc833b8",
   "metadata": {},
   "source": [
    "### Paso 2: Definir funciones para cálculo de Fingerprints\n",
    "En este paso, se definen las funciones calculate_fp y ConvertToNumpyArray. Estas funciones se utilizan para calcular y convertir los Fingerprints de las moléculas.\n"
   ]
  },
  {
   "cell_type": "code",
   "execution_count": null,
   "id": "7a6e2dfb",
   "metadata": {},
   "outputs": [],
   "source": [
    "def calculate_fp(mol, method='rdk5', n_bits=500):\n",
    "    if method == 'maccs':\n",
    "        return MACCSkeys.GenMACCSKeys(mol)\n",
    "    if method == 'ecfp4':\n",
    "        return GetMorganFingerprintAsBitVect(mol, 2, nBits=n_bits, useFeatures=False)\n",
    "    if method == 'ecfp6':\n",
    "        return GetMorganFingerprintAsBitVect(mol, 3, nBits=n_bits, useFeatures=False)\n",
    "    if method == 'torsion':\n",
    "        return GetHashedTopologicalTorsionFingerprintAsBitVect(mol, nBits=n_bits)\n",
    "    if method == 'rdk5':\n",
    "        return RDKFingerprint(mol, maxPath=5, fpSize=1024, nBitsPerHash=2)\n",
    "\n",
    "def ConvertToNumpyArray(fp, arr):\n",
    "    if isinstance(fp, Chem.DataStructs.cDataStructs.ExplicitBitVect):\n",
    "        DataStructs.ConvertToNumpyArray(fp, arr)\n",
    "    else:\n",
    "        output_fp = np.zeros(fp.GetNumBits())\n",
    "        output_fp = DataStructs.ConvertToNumpyArray(fp, output_fp)\n",
    "        arr[:] = output_fp[:]\n",
    "    return arr\n",
    "\n",
    "def create_mol(df_l, n_bits, method='rdk5'):\n",
    "    df_l['mol'] = df_l.smiles.apply(Chem.MolFromSmiles)\n",
    "    df_l['bv'] = df_l.mol.apply(lambda x: calculate_fp(x, method, n_bits))\n",
    "    df_l['np_bv'] = np.zeros((len(df_l), n_bits)).tolist()\n",
    "    \n",
    "    for i, row in df_l.iterrows():\n",
    "        if row['bv'] is not None:\n",
    "            df_l.at[i, 'np_bv'] = ConvertToNumpyArray(row['bv'], np.zeros(n_bits))\n",
    "        else:\n",
    "            df_l.at[i, 'np_bv'] = np.zeros(n_bits)"
   ]
  },
  {
   "cell_type": "markdown",
   "id": "411939e2",
   "metadata": {},
   "source": [
    "### Paso 3: Cargar datos desde un archivo CSV:\n",
    "Lectura del archivo CSV, con los datos descargados de la pagina ChEMBL"
   ]
  },
  {
   "cell_type": "code",
   "execution_count": null,
   "id": "58d5b6d9",
   "metadata": {},
   "outputs": [],
   "source": [
    "ChEMBL_df = pd.read_csv('./BACE1.csv')"
   ]
  },
  {
   "cell_type": "markdown",
   "id": "bc797568",
   "metadata": {},
   "source": [
    "### Paso 4: Filtrar moléculas\n",
    "Se filtran las moléculas según el valor de la columna 'Activity_Type' para eliminar las que tienen el valor 'Intermediate'.\n"
   ]
  },
  {
   "cell_type": "code",
   "execution_count": null,
   "id": "5305d610",
   "metadata": {},
   "outputs": [],
   "source": [
    "filteredyes_df = ChEMBL_df[(ChEMBL_df['Activity_Type'] != 'Intermediate')]"
   ]
  },
  {
   "cell_type": "markdown",
   "id": "5f6b4bb6",
   "metadata": {},
   "source": [
    "### Paso 5: Seleccionar columnas relevantes\n",
    "Se seleccionan las columnas 'Molecule_ChEMBL_ID', 'Activity_Type', y 'Smiles' del DataFrame filtrado. Se crea una nueva columna 'active' que asigna 1 a las moléculas marcadas como 'Active'."
   ]
  },
  {
   "cell_type": "code",
   "execution_count": null,
   "id": "081f9ba8",
   "metadata": {},
   "outputs": [],
   "source": [
    "datosfinales = filteredyes_df[['Molecule_ChEMBL_ID', 'Activity_Type', 'Smiles']].copy()\n",
    "datosfinales['active'] = 0\n",
    "datosfinales.loc[datosfinales['Activity_Type'] == \"Active\", 'active'] = 1"
   ]
  },
  {
   "cell_type": "markdown",
   "id": "b1ccb758",
   "metadata": {},
   "source": [
    "### Paso 6: Contar el número de moléculas activas e inactivas\n",
    "Se cuentan el número de moléculas activas e inactivas en el DataFrame datosfinales.\n"
   ]
  },
  {
   "cell_type": "code",
   "execution_count": null,
   "id": "e532d8f6",
   "metadata": {},
   "outputs": [],
   "source": [
    "num_actives = len(datosfinales[datosfinales['active'] == 1])\n",
    "num_inactives = len(datosfinales[datosfinales['active'] == 0])\n",
    "print('Actives: %d, Inactives: %d' % (num_actives, num_inactives))"
   ]
  },
  {
   "cell_type": "markdown",
   "id": "14bdc063",
   "metadata": {},
   "source": [
    "### Paso 7: Renombrar columna 'Smiles' a 'smiles'\n",
    "La columna 'Smiles' se renombra como 'smiles' para asegurar coherencia en el procesamiento."
   ]
  },
  {
   "cell_type": "code",
   "execution_count": null,
   "id": "ac564eca",
   "metadata": {},
   "outputs": [],
   "source": [
    "datosfinales = datosfinales.rename(columns={'Smiles': 'smiles'})"
   ]
  },
  {
   "cell_type": "markdown",
   "id": "dc5b001b",
   "metadata": {},
   "source": [
    "### Paso 8: Crear moléculas y calcular fingerprints\n",
    "Se crean moléculas a partir de las cadenas SMILES y se calculan los fingerprints para cada molécula. Los resultados se almacenan en el DataFrame df_new.\n"
   ]
  },
  {
   "cell_type": "code",
   "execution_count": null,
   "id": "ace7c6f3",
   "metadata": {},
   "outputs": [],
   "source": [
    "df_new = datosfinales.copy()\n",
    "df_new = df_new.dropna(subset=['smiles']) \n",
    "create_mol(df_new, 500)"
   ]
  },
  {
   "cell_type": "markdown",
   "id": "8a1170b2",
   "metadata": {},
   "source": [
    "### Paso 9: Contar el número de moléculas activas e inactivas después de crear las moléculas\n",
    "Se vuelve a contar el número de moléculas activas e inactivas en el DataFrame df_new.\n"
   ]
  },
  {
   "cell_type": "code",
   "execution_count": null,
   "id": "af236cc5",
   "metadata": {},
   "outputs": [],
   "source": [
    "num_actives = len(df_new[df_new['active'] == 1])\n",
    "num_inactives = len(df_new[df_new['active'] == 0])\n",
    "print('Actives: %d, Inactives: %d' % (num_actives, num_inactives))\n"
   ]
  },
  {
   "cell_type": "markdown",
   "id": "f8e8230f",
   "metadata": {},
   "source": [
    "### Paso 10: Seleccionar columnas relevantes para el entrenamiento\n",
    "Se seleccionan las columnas 'np_bv' y 'active' del DataFrame df_new. Estos datos se utilizarán para el entrenamiento de modelos de aprendizaje automático.\n"
   ]
  },
  {
   "cell_type": "code",
   "execution_count": null,
   "id": "3fa45d5c",
   "metadata": {},
   "outputs": [],
   "source": [
    "datosentrenamientoSIN_df = df_new[['np_bv', 'active']].copy()\n",
    "datosentrenamientoSIN_df.reset_index(drop=True, inplace=True)"
   ]
  },
  {
   "cell_type": "markdown",
   "id": "8c2b77ae",
   "metadata": {},
   "source": [
    "### Paso 11: Guardar el DataFrame en un archivo pickle\n",
    "Finalmente, se guarda el DataFrame datosentrenamientoSIN_df en un archivo pickle llamado 'datosentrenamientoSIN_df.pickle'.\n"
   ]
  },
  {
   "cell_type": "code",
   "execution_count": null,
   "id": "92943183",
   "metadata": {},
   "outputs": [],
   "source": [
    "with open('datosentrenamientoSIN_df.pickle', 'wb') as f:\n",
    "    pickle.dump(datosentrenamientoSIN_df, f)"
   ]
  },
  {
   "cell_type": "markdown",
   "id": "5ae421c6",
   "metadata": {},
   "source": [
    "Script elaborado por Nelson Alejandro Amaya Orozco, como trabajo de grado, para el grupo de investigacion RamirezLAB"
   ]
  }
 ],
 "metadata": {
  "kernelspec": {
   "display_name": "Python 3 (ipykernel)",
   "language": "python",
   "name": "python3"
  },
  "language_info": {
   "codemirror_mode": {
    "name": "ipython",
    "version": 3
   },
   "file_extension": ".py",
   "mimetype": "text/x-python",
   "name": "python",
   "nbconvert_exporter": "python",
   "pygments_lexer": "ipython3",
   "version": "3.9.7"
  }
 },
 "nbformat": 4,
 "nbformat_minor": 5
}
